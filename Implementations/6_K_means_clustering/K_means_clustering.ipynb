{
 "cells": [
  {
   "cell_type": "markdown",
   "metadata": {},
   "source": [
    "## Task: We have 5000+ movies data, we have to group them according to facebook likes"
   ]
  },
  {
   "cell_type": "markdown",
   "metadata": {},
   "source": [
    "### Import the dataset and look at the shape of it."
   ]
  },
  {
   "cell_type": "code",
   "execution_count": 10,
   "metadata": {},
   "outputs": [
    {
     "name": "stdout",
     "output_type": "stream",
     "text": [
      "(5043, 28)\n",
      "<bound method NDFrame.head of       color      director_name  num_critic_for_reviews  duration  \\\n",
      "0     Color      James Cameron                     723       178   \n",
      "1     Color     Gore Verbinski                     302       169   \n",
      "2     Color         Sam Mendes                     602       148   \n",
      "3     Color  Christopher Nolan                     813       164   \n",
      "4        49        Doug Walker                      49        49   \n",
      "...     ...                ...                     ...       ...   \n",
      "5038  Color        Scott Smith                       1        87   \n",
      "5039  Color                 49                      43        43   \n",
      "5040  Color   Benjamin Roberds                      13        76   \n",
      "5041  Color        Daniel Hsia                      14       100   \n",
      "5042  Color           Jon Gunn                      43        90   \n",
      "\n",
      "      director_facebook_likes  actor_3_facebook_likes      actor_2_name  \\\n",
      "0                           0                     855  Joel David Moore   \n",
      "1                         563                    1000     Orlando Bloom   \n",
      "2                           0                     161      Rory Kinnear   \n",
      "3                       22000                   23000    Christian Bale   \n",
      "4                         131                      49        Rob Walker   \n",
      "...                       ...                     ...               ...   \n",
      "5038                        2                     318     Daphne Zuniga   \n",
      "5039                       49                     319     Valorie Curry   \n",
      "5040                        0                       0     Maxwell Moody   \n",
      "5041                        0                     489     Daniel Henney   \n",
      "5042                       16                      16  Brian Herzlinger   \n",
      "\n",
      "      actor_1_facebook_likes      gross                           genres  ...  \\\n",
      "0                       1000  760505847  Action|Adventure|Fantasy|Sci-Fi  ...   \n",
      "1                      40000  309404152         Action|Adventure|Fantasy  ...   \n",
      "2                      11000  200074175        Action|Adventure|Thriller  ...   \n",
      "3                      27000  448130642                  Action|Thriller  ...   \n",
      "4                        131         49                      Documentary  ...   \n",
      "...                      ...        ...                              ...  ...   \n",
      "5038                     637         49                     Comedy|Drama  ...   \n",
      "5039                     841         49     Crime|Drama|Mystery|Thriller  ...   \n",
      "5040                       0         49            Drama|Horror|Thriller  ...   \n",
      "5041                     946      10443             Comedy|Drama|Romance  ...   \n",
      "5042                      86      85222                      Documentary  ...   \n",
      "\n",
      "     num_user_for_reviews language  country  content_rating     budget  \\\n",
      "0                    3054  English      USA           PG-13  237000000   \n",
      "1                    1238  English      USA           PG-13  300000000   \n",
      "2                     994  English       UK           PG-13  245000000   \n",
      "3                    2701  English      USA           PG-13  250000000   \n",
      "4                      49       49       49              49         49   \n",
      "...                   ...      ...      ...             ...        ...   \n",
      "5038                    6  English   Canada              49         49   \n",
      "5039                  359  English      USA           TV-14         49   \n",
      "5040                    3  English      USA              49       1400   \n",
      "5041                    9  English      USA           PG-13         49   \n",
      "5042                   84  English      USA              PG       1100   \n",
      "\n",
      "      title_year actor_2_facebook_likes imdb_score  aspect_ratio  \\\n",
      "0           2009                    936        7.9          1.78   \n",
      "1           2007                   5000        7.1          2.35   \n",
      "2           2015                    393        6.8          2.35   \n",
      "3           2012                  23000        8.5          2.35   \n",
      "4             49                     12        7.1         49.00   \n",
      "...          ...                    ...        ...           ...   \n",
      "5038        2013                    470        7.7         49.00   \n",
      "5039          49                    593        7.5         16.00   \n",
      "5040        2013                      0        6.3         49.00   \n",
      "5041        2012                    719        6.3          2.35   \n",
      "5042        2004                     23        6.6          1.85   \n",
      "\n",
      "     movie_facebook_likes  \n",
      "0                   33000  \n",
      "1                       0  \n",
      "2                   85000  \n",
      "3                  164000  \n",
      "4                       0  \n",
      "...                   ...  \n",
      "5038                   84  \n",
      "5039                32000  \n",
      "5040                   16  \n",
      "5041                  660  \n",
      "5042                  456  \n",
      "\n",
      "[5043 rows x 28 columns]>\n"
     ]
    }
   ],
   "source": [
    "%matplotlib inline\n",
    "from copy import deepcopy\n",
    "import numpy as np\n",
    "import pandas as pd\n",
    "import seaborn as sns\n",
    "sns.set() #For plot styling\n",
    "from matplotlib import pyplot as plt\n",
    "plt.rcParams['figure.figsize'] = (16,9)\n",
    "plt.style.use('ggplot')\n",
    "#importing the dataset\n",
    "data = pd.read_csv('movie_metadata1.csv')\n",
    "print(data.shape)\n",
    "print(data.head)"
   ]
  },
  {
   "cell_type": "code",
   "execution_count": 12,
   "metadata": {},
   "outputs": [
    {
     "data": {
      "text/plain": [
       "0           0\n",
       "1         563\n",
       "2           0\n",
       "3       22000\n",
       "4         131\n",
       "        ...  \n",
       "5038        2\n",
       "5039       49\n",
       "5040        0\n",
       "5041        0\n",
       "5042       16\n",
       "Name: director_facebook_likes, Length: 5043, dtype: int64"
      ]
     },
     "execution_count": 12,
     "metadata": {},
     "output_type": "execute_result"
    }
   ],
   "source": [
    "data['director_facebook_likes'] "
   ]
  },
  {
   "cell_type": "code",
   "execution_count": 13,
   "metadata": {},
   "outputs": [
    {
     "data": {
      "text/plain": [
       "Index(['color', 'director_name', 'num_critic_for_reviews', 'duration',\n",
       "       'director_facebook_likes', 'actor_3_facebook_likes', 'actor_2_name',\n",
       "       'actor_1_facebook_likes', 'gross', 'genres', 'actor_1_name',\n",
       "       'movie_title', 'num_voted_users', 'cast_total_facebook_likes',\n",
       "       'actor_3_name', 'facenumber_in_poster', 'plot_keywords',\n",
       "       'movie_imdb_link', 'num_user_for_reviews', 'language', 'country',\n",
       "       'content_rating', 'budget', 'title_year', 'actor_2_facebook_likes',\n",
       "       'imdb_score', 'aspect_ratio', 'movie_facebook_likes'],\n",
       "      dtype='object')"
      ]
     },
     "execution_count": 13,
     "metadata": {},
     "output_type": "execute_result"
    }
   ],
   "source": [
    "data.columns"
   ]
  },
  {
   "cell_type": "markdown",
   "metadata": {},
   "source": [
    "### Slice out the two columns"
   ]
  },
  {
   "cell_type": "code",
   "execution_count": 14,
   "metadata": {},
   "outputs": [
    {
     "data": {
      "text/html": [
       "<div>\n",
       "<style scoped>\n",
       "    .dataframe tbody tr th:only-of-type {\n",
       "        vertical-align: middle;\n",
       "    }\n",
       "\n",
       "    .dataframe tbody tr th {\n",
       "        vertical-align: top;\n",
       "    }\n",
       "\n",
       "    .dataframe thead th {\n",
       "        text-align: right;\n",
       "    }\n",
       "</style>\n",
       "<table border=\"1\" class=\"dataframe\">\n",
       "  <thead>\n",
       "    <tr style=\"text-align: right;\">\n",
       "      <th></th>\n",
       "      <th>director_facebook_likes</th>\n",
       "      <th>actor_3_facebook_likes</th>\n",
       "    </tr>\n",
       "  </thead>\n",
       "  <tbody>\n",
       "    <tr>\n",
       "      <td>0</td>\n",
       "      <td>0</td>\n",
       "      <td>855</td>\n",
       "    </tr>\n",
       "    <tr>\n",
       "      <td>1</td>\n",
       "      <td>563</td>\n",
       "      <td>1000</td>\n",
       "    </tr>\n",
       "    <tr>\n",
       "      <td>2</td>\n",
       "      <td>0</td>\n",
       "      <td>161</td>\n",
       "    </tr>\n",
       "    <tr>\n",
       "      <td>3</td>\n",
       "      <td>22000</td>\n",
       "      <td>23000</td>\n",
       "    </tr>\n",
       "    <tr>\n",
       "      <td>4</td>\n",
       "      <td>131</td>\n",
       "      <td>49</td>\n",
       "    </tr>\n",
       "    <tr>\n",
       "      <td>...</td>\n",
       "      <td>...</td>\n",
       "      <td>...</td>\n",
       "    </tr>\n",
       "    <tr>\n",
       "      <td>5038</td>\n",
       "      <td>2</td>\n",
       "      <td>318</td>\n",
       "    </tr>\n",
       "    <tr>\n",
       "      <td>5039</td>\n",
       "      <td>49</td>\n",
       "      <td>319</td>\n",
       "    </tr>\n",
       "    <tr>\n",
       "      <td>5040</td>\n",
       "      <td>0</td>\n",
       "      <td>0</td>\n",
       "    </tr>\n",
       "    <tr>\n",
       "      <td>5041</td>\n",
       "      <td>0</td>\n",
       "      <td>489</td>\n",
       "    </tr>\n",
       "    <tr>\n",
       "      <td>5042</td>\n",
       "      <td>16</td>\n",
       "      <td>16</td>\n",
       "    </tr>\n",
       "  </tbody>\n",
       "</table>\n",
       "<p>5043 rows × 2 columns</p>\n",
       "</div>"
      ],
      "text/plain": [
       "      director_facebook_likes  actor_3_facebook_likes\n",
       "0                           0                     855\n",
       "1                         563                    1000\n",
       "2                           0                     161\n",
       "3                       22000                   23000\n",
       "4                         131                      49\n",
       "...                       ...                     ...\n",
       "5038                        2                     318\n",
       "5039                       49                     319\n",
       "5040                        0                       0\n",
       "5041                        0                     489\n",
       "5042                       16                      16\n",
       "\n",
       "[5043 rows x 2 columns]"
      ]
     },
     "execution_count": 14,
     "metadata": {},
     "output_type": "execute_result"
    }
   ],
   "source": [
    "newdata = data.iloc[:,4:6]\n",
    "newdata"
   ]
  },
  {
   "cell_type": "markdown",
   "metadata": {},
   "source": [
    "### We will use KMeans from sklearn ro see the clusters in our data"
   ]
  },
  {
   "cell_type": "code",
   "execution_count": 19,
   "metadata": {},
   "outputs": [],
   "source": [
    "#Using the KMeans from sklearn\n",
    "from sklearn.cluster import KMeans"
   ]
  },
  {
   "cell_type": "code",
   "execution_count": 21,
   "metadata": {},
   "outputs": [],
   "source": [
    "kmeans = KMeans(n_clusters=5)"
   ]
  },
  {
   "cell_type": "code",
   "execution_count": 23,
   "metadata": {},
   "outputs": [
    {
     "data": {
      "text/plain": [
       "KMeans(algorithm='auto', copy_x=True, init='k-means++', max_iter=300,\n",
       "       n_clusters=5, n_init=10, n_jobs=None, precompute_distances='auto',\n",
       "       random_state=None, tol=0.0001, verbose=0)"
      ]
     },
     "execution_count": 23,
     "metadata": {},
     "output_type": "execute_result"
    }
   ],
   "source": [
    "kmeans.fit(newdata)"
   ]
  },
  {
   "cell_type": "code",
   "execution_count": 24,
   "metadata": {},
   "outputs": [
    {
     "data": {
      "text/plain": [
       "array([[  151.29382199,   420.67350785],\n",
       "       [17621.21212121,   596.10606061],\n",
       "       [  210.77011494, 11126.43678161],\n",
       "       [12490.38461538,   605.93269231],\n",
       "       [17545.45454545, 14545.45454545]])"
      ]
     },
     "execution_count": 24,
     "metadata": {},
     "output_type": "execute_result"
    }
   ],
   "source": [
    "kmeans.cluster_centers_\n",
    "#print(len(kmeans.cluster_centers_)) "
   ]
  },
  {
   "cell_type": "code",
   "execution_count": 25,
   "metadata": {},
   "outputs": [
    {
     "name": "stdout",
     "output_type": "stream",
     "text": [
      "[0 0 0 ... 0 0 0]\n",
      "5043\n"
     ]
    }
   ],
   "source": [
    "print(kmeans.labels_)\n",
    "print(len(kmeans.labels_))"
   ]
  },
  {
   "cell_type": "code",
   "execution_count": 30,
   "metadata": {},
   "outputs": [
    {
     "name": "stdout",
     "output_type": "stream",
     "text": [
      "<class 'numpy.ndarray'>\n",
      "{0: 4775, 1: 66, 2: 87, 3: 104, 4: 11}\n"
     ]
    }
   ],
   "source": [
    "print(type(kmeans.labels_))\n",
    "unique, counts = np.unique(kmeans.labels_, return_counts=True)\n",
    "print(dict(zip(unique, counts)))"
   ]
  },
  {
   "cell_type": "code",
   "execution_count": 35,
   "metadata": {},
   "outputs": [
    {
     "data": {
      "text/plain": [
       "<seaborn.axisgrid.FacetGrid at 0x21f92d9da48>"
      ]
     },
     "execution_count": 35,
     "metadata": {},
     "output_type": "execute_result"
    },
    {
     "data": {
      "image/png": "[encoded data removed]",
      "text/plain": [
       "<Figure size 477.85x432 with 1 Axes>"
      ]
     },
     "metadata": {},
     "output_type": "display_data"
    }
   ],
   "source": [
    "#plot the data\n",
    "newdata['cluster'] = kmeans.labels_\n",
    "sns.set_style('whitegrid')\n",
    "sns.lmplot('director_facebook_likes', 'actor_3_facebook_likes', \n",
    "           data=newdata, hue='cluster', palette='coolwarm', size=6, aspect=1, fit_reg=False)"
   ]
  },
  {
   "cell_type": "markdown",
   "metadata": {},
   "source": [
    "#### (It seems that cluster 0 and cluster 2 are very close to each other)"
   ]
  }
 ],
 "metadata": {
  "kernelspec": {
   "display_name": "Python 3",
   "language": "python",
   "name": "python3"
  },
  "language_info": {
   "codemirror_mode": {
    "name": "ipython",
    "version": 3
   },
   "file_extension": ".py",
   "mimetype": "text/x-python",
   "name": "python",
   "nbconvert_exporter": "python",
   "pygments_lexer": "ipython3",
   "version": "3.7.4"
  }
 },
 "nbformat": 4,
 "nbformat_minor": 2
}
